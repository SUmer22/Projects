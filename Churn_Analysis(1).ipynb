{
  "nbformat": 4,
  "nbformat_minor": 0,
  "metadata": {
    "colab": {
      "provenance": [],
      "gpuType": "T4"
    },
    "kernelspec": {
      "name": "python3",
      "display_name": "Python 3"
    },
    "language_info": {
      "name": "python"
    },
    "accelerator": "GPU"
  },
  "cells": [
    {
      "cell_type": "code",
      "execution_count": 1,
      "metadata": {
        "id": "MikzZgRYJKGH"
      },
      "outputs": [],
      "source": [
        "import pandas as pd\n",
        "import numpy as np\n",
        "import matplotlib.pyplot as plt\n",
        "import seaborn as sns\n",
        "import warnings\n",
        "warnings.filterwarnings('ignore')"
      ]
    },
    {
      "cell_type": "code",
      "source": [
        "#Importing the Data File\n",
        "df = pd.read_csv('/content/Customer Churn.csv')\n"
      ],
      "metadata": {
        "id": "nHamvVftJTmR"
      },
      "execution_count": 2,
      "outputs": []
    },
    {
      "cell_type": "code",
      "source": [
        "#Checking the Total Columns and Rows in the Data set\n",
        "df.shape\n",
        "\n"
      ],
      "metadata": {
        "id": "Y2ycPrvKJjmE"
      },
      "execution_count": null,
      "outputs": []
    },
    {
      "cell_type": "code",
      "source": [
        "#Understanding the Basic Statistics about the data\n",
        "df.describe()"
      ],
      "metadata": {
        "id": "5CNYnRnQMuI3"
      },
      "execution_count": null,
      "outputs": []
    },
    {
      "cell_type": "code",
      "source": [
        "#Checking the first 5 rows and columns of the data\n",
        "df.head()"
      ],
      "metadata": {
        "id": "u1OqlpGbM0-L"
      },
      "execution_count": null,
      "outputs": []
    },
    {
      "cell_type": "code",
      "source": [
        "#Checking the data types\n",
        "df.info()"
      ],
      "metadata": {
        "id": "c7EoNfAP3C5C"
      },
      "execution_count": null,
      "outputs": []
    },
    {
      "cell_type": "code",
      "source": [
        "#Checking for null values\n",
        "\n",
        "# Count of null values in a particular column\n",
        "null_count = df['TotalCharges'].isnull().sum()\n",
        "print(f\"Number of null values in column_name: {null_count}\")\n",
        "\n",
        "#Checking Null values in the complete data set\n",
        "df.isnull().sum().sum()"
      ],
      "metadata": {
        "id": "VKuZzT7P70gq",
        "colab": {
          "base_uri": "https://localhost:8080/"
        },
        "outputId": "ddfbea96-d9a5-4ed9-8c2a-806705072f81"
      },
      "execution_count": 6,
      "outputs": [
        {
          "output_type": "stream",
          "name": "stdout",
          "text": [
            "Number of null values in column_name: 0\n"
          ]
        },
        {
          "output_type": "execute_result",
          "data": {
            "text/plain": [
              "0"
            ]
          },
          "metadata": {},
          "execution_count": 6
        }
      ]
    },
    {
      "cell_type": "code",
      "source": [
        "#Converting the data type of required column for further visualization\n",
        "df['TotalCharges'] = df['TotalCharges'].replace(\" \", \"0\")\n",
        "df['TotalCharges'] = df['TotalCharges'].astype(float)\n",
        "\n",
        "#Checking data type after conversion\n",
        "print(df['TotalCharges'].dtype)\n"
      ],
      "metadata": {
        "id": "O44-n9RtIIDB",
        "colab": {
          "base_uri": "https://localhost:8080/"
        },
        "outputId": "7840201d-5af8-4904-e76c-b96837a20251"
      },
      "execution_count": 7,
      "outputs": [
        {
          "output_type": "stream",
          "name": "stdout",
          "text": [
            "float64\n"
          ]
        }
      ]
    },
    {
      "cell_type": "code",
      "source": [
        "#Checking for Duplicate values as well.\n",
        "df.duplicated().sum()"
      ],
      "metadata": {
        "id": "KhwLl9BHMZZI"
      },
      "execution_count": null,
      "outputs": []
    },
    {
      "cell_type": "code",
      "source": [
        "#Converting int type data to str type by creating a function that can be used later as well\n",
        "def conv(value):\n",
        "  if value == 1:\n",
        "    return 'Yes'\n",
        "  else:\n",
        "    return 'No'\n",
        "df['SeniorCitizen'] = df['SeniorCitizen'].apply(conv)\n",
        "\n",
        "#Checking data type after conversion\n",
        "print(df['SeniorCitizen'].dtype)\n"
      ],
      "metadata": {
        "id": "YjzKtHexyE39"
      },
      "execution_count": null,
      "outputs": []
    },
    {
      "cell_type": "markdown",
      "source": [
        "Now the data is ready for further Analysis as all the possible null values are handled and required datatypes are converted for EDA"
      ],
      "metadata": {
        "id": "W5ZaXg13Wglo"
      }
    },
    {
      "cell_type": "markdown",
      "source": [
        "# Total count and percentages of customer who churned vs not churned."
      ],
      "metadata": {
        "id": "XVPrd7sVgAuG"
      }
    },
    {
      "cell_type": "code",
      "source": [
        "# Plot with custom colors\n",
        "ax = sns.countplot(x='Churn', data=df, palette=['skyblue', 'orange'])  # Customize colors here\n",
        "\n",
        "# Total rows for percentage calculation\n",
        "total = len(df)\n",
        "\n",
        "# Add counts and percentages to each bar\n",
        "for container in ax.containers:\n",
        "    ax.bar_label(\n",
        "        container,\n",
        "        labels=[f'{int(bar.get_height())} ({(bar.get_height() / total) * 100:.1f}%)' for bar in container]\n",
        "    )\n",
        "plt.title(\"Total Number of Customers Who Churned\")\n",
        "plt.xlabel(\"Churn\")\n",
        "plt.ylabel(\"Count\")\n",
        "plt.show()\n"
      ],
      "metadata": {
        "id": "LB799LqWdBtA",
        "colab": {
          "base_uri": "https://localhost:8080/",
          "height": 492
        },
        "outputId": "c718fd49-d681-47c2-87e1-f887599618d1"
      },
      "execution_count": 15,
      "outputs": [
        {
          "output_type": "display_data",
          "data": {
            "text/plain": [
              "<Figure size 640x480 with 1 Axes>"
            ],
            "image/png": "[encoded data removed]"
          },
          "metadata": {}
        }
      ]
    },
    {
      "cell_type": "markdown",
      "source": [
        "# Churn pattern across different demographic features"
      ],
      "metadata": {
        "id": "X-8hTyPTg2HG"
      }
    },
    {
      "cell_type": "code",
      "source": [
        "# Create a count plot to visualize gender with respect to churn\n",
        "ax = sns.countplot(x='gender', hue='Churn', data=df, palette=['skyblue', 'orange'])\n",
        "\n",
        "# Add labels to bars\n",
        "ax.bar_label(ax.containers[0])\n",
        "ax.bar_label(ax.containers[1])\n",
        "\n",
        "# Add title and labels\n",
        "plt.title('Churn by Gender')\n",
        "plt.xlabel('Gender')\n",
        "plt.ylabel('Count')\n",
        "plt.show()\n"
      ],
      "metadata": {
        "id": "X0JDn66igq1r"
      },
      "execution_count": null,
      "outputs": []
    },
    {
      "cell_type": "markdown",
      "source": [
        "Churn by Partner"
      ],
      "metadata": {
        "id": "G4BDfOLplekP"
      }
    },
    {
      "cell_type": "code",
      "source": [
        "partner_churn = df.groupby('Partner')['Churn'].value_counts(normalize=True).unstack() * 100\n",
        "partner_churn.plot(kind='bar', stacked=True, figsize=(6, 4), title='Churn by Partner')\n",
        "plt.ylabel('Percentage')\n",
        "plt.show()\n",
        "\n",
        "summary = df.groupby('Partner')['Churn']\n",
        "print(summary.value_counts())"
      ],
      "metadata": {
        "id": "q81xfPlQkzsl"
      },
      "execution_count": null,
      "outputs": []
    },
    {
      "cell_type": "markdown",
      "source": [
        "Churn by Dependants"
      ],
      "metadata": {
        "id": "_4R-3iqmKaBU"
      }
    },
    {
      "cell_type": "code",
      "source": [
        "# Churn by Dependents\n",
        "dependents_churn = df.groupby('Dependents')['Churn'].value_counts(normalize=True).unstack() * 100\n",
        "dependents_churn.plot(kind='bar', stacked=True, figsize=(6, 4), title='Churn by Dependents')\n",
        "plt.ylabel('Percentage')\n",
        "plt.show()\n",
        "\n",
        "Summary  = df.groupby('Dependents')['Churn']\n",
        "print(Summary.value_counts())"
      ],
      "metadata": {
        "id": "E51MD9-tl44_"
      },
      "execution_count": null,
      "outputs": []
    },
    {
      "cell_type": "markdown",
      "source": [
        "Churn by Senior citizen"
      ],
      "metadata": {
        "id": "DalnAMHeKhk2"
      }
    },
    {
      "cell_type": "code",
      "source": [
        "# Calculate churn percentages by Senior Citizen\n",
        "senior_churn = df.groupby('SeniorCitizen')['Churn'].value_counts(normalize=True).unstack() * 100\n",
        "\n",
        "# Plot churn by Senior Citizen with separate bars\n",
        "senior_churn.plot(kind='bar', figsize=(6, 4), title='Churn by Senior Citizen', rot=0)\n",
        "\n",
        "# Label axes and add percentages on the bars\n",
        "plt.ylabel('Percentage')\n",
        "plt.xlabel('Senior Citizen')\n",
        "plt.xticks(ticks=[0, 1], labels=['Non-Senior', 'Senior'])\n",
        "plt.legend(title='Churn', labels=['No', 'Yes'])\n",
        "plt.show()\n",
        "\n",
        "summary = df.groupby('SeniorCitizen')['Churn']\n",
        "print(summary.value_counts())"
      ],
      "metadata": {
        "id": "qRhKiWTInLrr"
      },
      "execution_count": null,
      "outputs": []
    },
    {
      "cell_type": "markdown",
      "source": [
        "Service Usage:\n",
        "\n",
        "    Churn patterns across services (e.g., InternetService, StreamingTV).\n",
        "    Impact of add-ons like TechSupport, OnlineSecurity on churn."
      ],
      "metadata": {
        "id": "x4RvLWtwtKDq"
      }
    },
    {
      "cell_type": "code",
      "source": [
        "# Churn by Internet Service\n",
        "internet_service_churn = df.groupby('InternetService')['Churn'].value_counts(normalize=True).unstack() * 100\n",
        "\n",
        "# Plot churn by Internet Service\n",
        "internet_service_churn.plot(kind='bar', figsize=(6, 4), title='Churn by Internet Service', rot=0)\n",
        "\n",
        "# Add labels\n",
        "plt.ylabel('Percentage')\n",
        "plt.xlabel('Internet Service')\n",
        "plt.legend(title='Churn', labels=['No', 'Yes'])\n",
        "plt.show()\n",
        "\n",
        "Summary = df.groupby('InternetService')['Churn']\n",
        "print(Summary.value_counts())"
      ],
      "metadata": {
        "id": "yMM1NbKZtL0n"
      },
      "execution_count": null,
      "outputs": []
    },
    {
      "cell_type": "markdown",
      "source": [
        "Churn by Streaming TV service"
      ],
      "metadata": {
        "id": "PBsHzBVCyM0a"
      }
    },
    {
      "cell_type": "code",
      "source": [
        "# Churn by StreamingTV\n",
        "streaming_tv_churn = df.groupby('StreamingTV')['Churn'].value_counts(normalize=True).unstack() * 100\n",
        "\n",
        "# Plot churn by StreamingTV\n",
        "streaming_tv_churn.plot(kind='bar', figsize=(6, 4), title='Churn by StreamingTV', rot=0)\n",
        "\n",
        "# Add labels\n",
        "plt.ylabel('Percentage')\n",
        "plt.xlabel('StreamingTV')\n",
        "plt.legend(title='Churn', labels=['No', 'Yes'])\n",
        "plt.show()\n",
        "\n",
        "summary = df.groupby('StreamingTV')['Churn']\n",
        "print(summary.value_counts())"
      ],
      "metadata": {
        "id": "IKy1kmymxlPh"
      },
      "execution_count": null,
      "outputs": []
    },
    {
      "cell_type": "markdown",
      "source": [
        "Impact on Churn by addins like Tech Support and Online Security"
      ],
      "metadata": {
        "id": "P-LwinbVyZ8n"
      }
    },
    {
      "cell_type": "code",
      "source": [
        "# Churn by TechSupport\n",
        "tech_support_churn = df.groupby('TechSupport')['Churn'].value_counts(normalize=True).unstack() * 100\n",
        "\n",
        "# Plot churn by TechSupport\n",
        "tech_support_churn.plot(kind='bar', figsize=(6, 4), title='Churn by TechSupport', rot=0)\n",
        "\n",
        "# Add labels\n",
        "plt.ylabel('Percentage')\n",
        "plt.xlabel('TechSupport')\n",
        "plt.legend(title='Churn', labels=['No', 'Yes'])\n",
        "plt.show()\n",
        "\n",
        "summary = df.groupby('TechSupport')['Churn']\n",
        "print(summary.value_counts())\n"
      ],
      "metadata": {
        "id": "-yWjlUJjynGv"
      },
      "execution_count": null,
      "outputs": []
    },
    {
      "cell_type": "code",
      "source": [
        "# Churn by OnlineSecurity\n",
        "online_security_churn = df.groupby('OnlineSecurity')['Churn'].value_counts(normalize=True).unstack() * 100\n",
        "\n",
        "# Plot churn by OnlineSecurity with separate bars\n",
        "ax = online_security_churn.plot(kind='bar', figsize=(6, 4), title='Churn by OnlineSecurity', rot=0)\n",
        "\n",
        "# Add percentages to the bars\n",
        "for index, values in enumerate(online_security_churn.values):\n",
        "    ax.text(index - 0.15, values[0] / 2, f'{values[0]:.1f}%', ha='center', color='black')\n",
        "    ax.text(index + 0.15, 50 + values[1] / 2, f'{values[1]:.1f}%', ha='center', color='black')\n",
        "\n",
        "# Add axis labels\n",
        "plt.ylabel('Percentage')\n",
        "plt.xlabel('OnlineSecurity')\n",
        "plt.xticks(ticks=[0, 1, 2], labels=['No', 'Yes', 'No Internet Service'])\n",
        "plt.legend(title='Churn', labels=['No', 'Yes'])\n",
        "plt.show()\n"
      ],
      "metadata": {
        "id": "acCTojtFzQi5"
      },
      "execution_count": null,
      "outputs": []
    },
    {
      "cell_type": "markdown",
      "source": [
        "Diving Deeper into some more important factors that are leading to customer churn"
      ],
      "metadata": {
        "id": "mEG6cUBr3IpS"
      }
    },
    {
      "cell_type": "markdown",
      "source": [
        "# Impact of Contract Type on Customer Churn"
      ],
      "metadata": {
        "id": "he4QaR8W41Vq"
      }
    },
    {
      "cell_type": "code",
      "source": [
        "# Churn by Contract Type\n",
        "contract_churn = df.groupby('Contract')['Churn'].value_counts(normalize=True).unstack() * 100\n",
        "\n",
        "# Plot churn by Contract\n",
        "ax = contract_churn.plot(kind='bar', figsize=(6, 4), title='Churn by Contract', rot=0)\n",
        "\n",
        "# Add percentages inside the bars\n",
        "for index, values in enumerate(contract_churn.values):\n",
        "    ax.text(index - 0.25, values[0] / 2, f'{values[0]:.1f}%', ha='center', va='center', color='Black')\n",
        "    ax.text(index + 0.25, values[0] + (values[1] / 2), f'{values[1]:.1f}%', ha='center', va='center', color='Black')\n",
        "\n",
        "# Add axis labels\n",
        "plt.ylabel('Percentage')\n",
        "plt.xlabel('Contract Type')\n",
        "plt.legend(title='Churn', labels=['No', 'Yes'])\n",
        "plt.show()\n"
      ],
      "metadata": {
        "id": "gh4DuKkv3P0u"
      },
      "execution_count": null,
      "outputs": []
    },
    {
      "cell_type": "markdown",
      "source": [
        "# Impact of Billing Type and Payment Method on Customer Churn Rate\n"
      ],
      "metadata": {
        "id": "dh9FUaKr5EYK"
      }
    },
    {
      "cell_type": "code",
      "source": [
        "# Churn by Payment Method\n",
        "payment_method_churn = df.groupby('PaymentMethod')['Churn'].value_counts(normalize=True).unstack() * 100\n",
        "\n",
        "# Plot churn by Payment Method\n",
        "payment_method_churn.plot(kind='bar', figsize=(8, 5), title='Churn by Payment Method', rot=30)\n",
        "\n",
        "# Add axis labels\n",
        "plt.ylabel('Percentage')\n",
        "plt.xlabel('Payment Method')\n",
        "plt.legend(title='Churn', labels=['No', 'Yes'])\n",
        "plt.tight_layout()  # Ensure layout fits properly\n",
        "plt.show()\n",
        "\n",
        "summary = df.groupby('PaymentMethod')['Churn']\n",
        "print(summary.value_counts())"
      ],
      "metadata": {
        "id": "0uz0e8RA5Lgb"
      },
      "execution_count": null,
      "outputs": []
    },
    {
      "cell_type": "markdown",
      "source": [
        "Impact of Paperless Billing on Churn"
      ],
      "metadata": {
        "id": "U6GdNchXEUXO"
      }
    },
    {
      "cell_type": "code",
      "source": [
        "# Churn by Paperless Billing\n",
        "paperless_churn = df.groupby('PaperlessBilling')['Churn'].value_counts(normalize=True).unstack() * 100\n",
        "\n",
        "# Plot churn by Paperless Billing\n",
        "paperless_churn.plot(kind='bar', figsize=(6, 4), title='Churn by Paperless Billing', rot=0)\n",
        "\n",
        "# Add axis labels\n",
        "plt.ylabel('Percentage')\n",
        "plt.xlabel('Paperless Billing')\n",
        "plt.legend(title='Churn', labels=['No', 'Yes'])\n",
        "plt.tight_layout()\n",
        "plt.show()\n",
        "\n",
        "summary = df.groupby('PaperlessBilling')['Churn']\n",
        "print(summary.value_counts())\n"
      ],
      "metadata": {
        "id": "Jyp0dwTrFi7e"
      },
      "execution_count": null,
      "outputs": []
    },
    {
      "cell_type": "markdown",
      "source": [
        "# Impact of Financial Metrics on customer churn rate"
      ],
      "metadata": {
        "id": "E_fryM2U3l-A"
      }
    },
    {
      "cell_type": "markdown",
      "source": [
        "Monthly Charges Churn Rate"
      ],
      "metadata": {
        "id": "4VWZD3lj34vx"
      }
    },
    {
      "cell_type": "code",
      "source": [
        "# Box plot for MonthlyCharges by Churn status\n",
        "plt.figure(figsize=(8, 5))\n",
        "sns.boxplot(x='Churn', y='MonthlyCharges', data=df)\n",
        "plt.title('Monthly Charges by Churn Status')\n",
        "plt.ylabel('Monthly Charges')\n",
        "plt.xlabel('Churn')\n",
        "plt.show()\n",
        "\n",
        "# Summary statistics for MonthlyCharges\n",
        "monthly_charges_stats = df.groupby('Churn')['MonthlyCharges'].describe()\n",
        "print(monthly_charges_stats)\n"
      ],
      "metadata": {
        "id": "IF5D_MU6J1tl"
      },
      "execution_count": null,
      "outputs": []
    },
    {
      "cell_type": "markdown",
      "source": [
        "Churn rate by total Charges"
      ],
      "metadata": {
        "id": "Dd5_Nyfb4GaB"
      }
    },
    {
      "cell_type": "code",
      "source": [
        "# Box plot for TotalCharges by Churn status\n",
        "plt.figure(figsize=(8, 5))\n",
        "sns.boxplot(x='Churn', y='TotalCharges', data=df)\n",
        "plt.title('Total Charges by Churn Status')\n",
        "plt.ylabel('Total Charges')\n",
        "plt.xlabel('Churn')\n",
        "plt.show()\n",
        "\n",
        "# Summary statistics for TotalCharges\n",
        "total_charges_stats = df.groupby('Churn')['TotalCharges'].describe()\n",
        "print(total_charges_stats)\n"
      ],
      "metadata": {
        "colab": {
          "base_uri": "https://localhost:8080/",
          "height": 667
        },
        "id": "kukOG-Dqd4KK",
        "outputId": "8d6bb758-d748-4316-c091-05bac41f9ef6"
      },
      "execution_count": 9,
      "outputs": [
        {
          "output_type": "display_data",
          "data": {
            "text/plain": [
              "<Figure size 800x500 with 1 Axes>"
            ],
            "image/png": "[encoded data removed]"
          },
          "metadata": {}
        },
        {
          "output_type": "stream",
          "name": "stdout",
          "text": [
            "        count         mean          std    min    25%       50%      75%  \\\n",
            "Churn                                                                      \n",
            "No     5174.0  2549.911442  2329.954215   0.00  572.9  1679.525  4262.85   \n",
            "Yes    1869.0  1531.796094  1890.822994  18.85  134.5   703.550  2331.30   \n",
            "\n",
            "           max  \n",
            "Churn           \n",
            "No     8672.45  \n",
            "Yes    8684.80  \n"
          ]
        }
      ]
    },
    {
      "cell_type": "markdown",
      "source": [
        "# Impact of tenure on Churn Rate"
      ],
      "metadata": {
        "id": "orcrFf7qDY9J"
      }
    },
    {
      "cell_type": "code",
      "source": [
        "# Histogram for tenure by churn status\n",
        "plt.figure(figsize=(10, 6))\n",
        "sns.histplot(data=df, x='tenure', hue='Churn', kde=False, bins=20, multiple='stack')\n",
        "plt.title('Tenure Distribution by Churn Status')\n",
        "plt.xlabel('Tenure (Months)')\n",
        "plt.ylabel('Count')\n",
        "plt.show()\n"
      ],
      "metadata": {
        "id": "bP6WejOShNHc"
      },
      "execution_count": null,
      "outputs": []
    },
    {
      "cell_type": "markdown",
      "source": [
        "Tenure Segmentation Analysis on Churn Rate"
      ],
      "metadata": {
        "id": "FWVqPSuDDkRE"
      }
    },
    {
      "cell_type": "code",
      "source": [
        "# Define tenure segments\n",
        "bins = [0, 12, 24, 36, 48, 60, df['tenure'].max()]\n",
        "labels = ['0-12', '13-24', '25-36', '37-48', '49-60', '61+']\n",
        "df['tenure_group'] = pd.cut(df['tenure'], bins=bins, labels=labels, right=False)\n",
        "\n",
        "# Churn rates by tenure group\n",
        "tenure_group_churn = df.groupby('tenure_group')['Churn'].value_counts(normalize=True).unstack() * 100\n",
        "\n",
        "# Plot churn rates by tenure group\n",
        "tenure_group_churn.plot(kind='bar', stacked=True, figsize=(10, 6), title='Churn Rates by Tenure Group')\n",
        "plt.ylabel('Percentage')\n",
        "plt.xlabel('Tenure Group (Months)')\n",
        "plt.legend(title='Churn', labels=['No', 'Yes'])\n",
        "plt.tight_layout()\n",
        "plt.show()\n"
      ],
      "metadata": {
        "id": "MBkYVkaBDrNN"
      },
      "execution_count": null,
      "outputs": []
    },
    {
      "cell_type": "markdown",
      "source": [
        "# Analyizng Multiple factors leading to increase in the Customer Churn Rate"
      ],
      "metadata": {
        "id": "7K-nCgjhE5Aw"
      }
    },
    {
      "cell_type": "markdown",
      "source": [
        "Churn by Monthly Charges and Contract Type"
      ],
      "metadata": {
        "id": "bGOtHDfnHdTn"
      }
    },
    {
      "cell_type": "code",
      "source": [
        "# Box plot for MonthlyCharges by Churn and Contract\n",
        "plt.figure(figsize=(12, 6))\n",
        "sns.boxplot(x='Contract', y='MonthlyCharges', hue='Churn', data=df)\n",
        "plt.title('Monthly Charges by Contract and Churn Status')\n",
        "plt.ylabel('Monthly Charges')\n",
        "plt.xlabel('Contract')\n",
        "plt.legend(title='Churn')\n",
        "plt.show()\n",
        "\n",
        "# Box plot for TotalCharges by Churn and Contract\n",
        "plt.figure(figsize=(12, 6))\n",
        "sns.boxplot(x='Contract', y='TotalCharges', hue='Churn', data=df)\n",
        "plt.title('Total Charges by Contract and Churn Status')\n",
        "plt.ylabel('Total Charges')\n",
        "plt.xlabel('Contract')\n",
        "plt.legend(title='Churn')\n",
        "plt.show()\n"
      ],
      "metadata": {
        "id": "4D4Sb9jDE_8z"
      },
      "execution_count": null,
      "outputs": []
    },
    {
      "cell_type": "markdown",
      "source": [
        "# Impact of Tenure and Contract Type on Churn Rate"
      ],
      "metadata": {
        "id": "ZH6RYXv6JB-r"
      }
    },
    {
      "cell_type": "code",
      "source": [
        "# Group data by tenure group and contract type, then calculate churn rates\n",
        "tenure_contract_churn = df.groupby(['tenure_group', 'Contract'])['Churn'].value_counts(normalize=True).unstack() * 100\n",
        "\n",
        "# Plot churn rates\n",
        "tenure_contract_churn.plot(kind='bar', stacked=True, figsize=(12, 6))\n",
        "plt.title('Churn Rates by Tenure Group and Contract Type')\n",
        "plt.ylabel('Percentage')\n",
        "plt.xlabel('Tenure Group (Months) and Contract Type')\n",
        "plt.legend(title='Churn', labels=['No', 'Yes'])\n",
        "plt.tight_layout()\n",
        "plt.show()\n"
      ],
      "metadata": {
        "colab": {
          "base_uri": "https://localhost:8080/",
          "height": 595
        },
        "id": "_hDrcKHOJN7t",
        "outputId": "fcaf6feb-3633-4625-c772-bdab82682dee"
      },
      "execution_count": 31,
      "outputs": [
        {
          "output_type": "display_data",
          "data": {
            "text/plain": [
              "<Figure size 1200x600 with 1 Axes>"
            ],
            "image/png": "[encoded data removed]"
          },
          "metadata": {}
        }
      ]
    }
  ]
}